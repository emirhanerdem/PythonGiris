{
 "cells": [
  {
   "cell_type": "code",
   "execution_count": null,
   "id": "2ee229b7",
   "metadata": {},
   "outputs": [
    {
     "name": "stdout",
     "output_type": "stream",
     "text": [
      "ilk sayıyı giriniz: ef\n",
      "lütfen sayıları düzgün giriniz\n",
      "ilk sayıyı giriniz: eöwl\n",
      "lütfen sayıları düzgün giriniz\n",
      "ilk sayıyı giriniz: 10\n",
      "ikinci sayıyı giriniz: 20\n",
      "işleminizi seçiniz : +-*/smşfs\n",
      "lütfen doğru tuşlama yapınız\n",
      "None\n"
     ]
    }
   ],
   "source": [
    "def hesapla(a,b,islem):\n",
    "    if islem==\"+\":\n",
    "        return (str(a)+\" + \"+str(b)+\" = \"+str(a+b))\n",
    "    elif islem==\"-\":\n",
    "        return (str(a)+\" - \"+str(b)+\" = \"+str(a-b))\n",
    "    elif islem==\"*\":\n",
    "        return (str(a)+\" * \"+str(b)+\" = \"+str(a*b))\n",
    "    elif islem==\"/\":\n",
    "        return (str(a)+\" + \"+str(b)+\" = \"+str(a/b))\n",
    "    else:\n",
    "        print(\"lütfen doğru tuşlama yapınız\")\n",
    "\n",
    "\n",
    "\n",
    "while True:\n",
    "    try:\n",
    "        a=int(input(\"ilk sayıyı giriniz: \"))\n",
    "        b=int(input(\"ikinci sayıyı giriniz: \"))\n",
    "        islem =input(\"işleminizi seçiniz : +-*/\")\n",
    "        print(hesapla(a,b,islem))\n",
    "    except:\n",
    "        print(\"lütfen sayıları düzgün giriniz\")"
   ]
  },
  {
   "cell_type": "code",
   "execution_count": null,
   "id": "66e1d2e0",
   "metadata": {},
   "outputs": [],
   "source": []
  }
 ],
 "metadata": {
  "kernelspec": {
   "display_name": "Python 3 (ipykernel)",
   "language": "python",
   "name": "python3"
  },
  "language_info": {
   "codemirror_mode": {
    "name": "ipython",
    "version": 3
   },
   "file_extension": ".py",
   "mimetype": "text/x-python",
   "name": "python",
   "nbconvert_exporter": "python",
   "pygments_lexer": "ipython3",
   "version": "3.11.5"
  }
 },
 "nbformat": 4,
 "nbformat_minor": 5
}
