{
 "cells": [
  {
   "cell_type": "code",
   "execution_count": 1,
   "id": "0bd22dfe",
   "metadata": {},
   "outputs": [
    {
     "data": {
      "text/plain": [
       "False"
      ]
     },
     "execution_count": 1,
     "metadata": {},
     "output_type": "execute_result"
    }
   ],
   "source": [
    "3<1"
   ]
  },
  {
   "cell_type": "code",
   "execution_count": 24,
   "id": "53a700bf",
   "metadata": {},
   "outputs": [
    {
     "name": "stdout",
     "output_type": "stream",
     "text": [
      "atıl samancıoğlu\n"
     ]
    }
   ],
   "source": [
    "if 3>1:print(\"atıl samancıoğlu\")\n",
    "else : print(\"ddeğil\")    \n",
    "    "
   ]
  },
  {
   "cell_type": "code",
   "execution_count": 32,
   "id": "dcba474b",
   "metadata": {},
   "outputs": [],
   "source": [
    "x=3\n",
    "y=3"
   ]
  },
  {
   "cell_type": "code",
   "execution_count": 33,
   "id": "dc36204a",
   "metadata": {},
   "outputs": [
    {
     "name": "stdout",
     "output_type": "stream",
     "text": [
      "y ve x birbirine eşittir\n"
     ]
    }
   ],
   "source": [
    "if x > y :\n",
    "    print(\"x y'den büyüktür\")\n",
    "elif y>x :    #else if\n",
    "    print(\"y x'den büyüktür\")\n",
    "elif x==y:\n",
    "    print(\"y ve x birbirine eşittir\")"
   ]
  },
  {
   "cell_type": "code",
   "execution_count": 35,
   "id": "8e182121",
   "metadata": {},
   "outputs": [
    {
     "name": "stdout",
     "output_type": "stream",
     "text": [
      "süper kahraman seçiniz: batman\n"
     ]
    }
   ],
   "source": [
    "benimKahramanim = input(\"süper kahraman seçiniz: \")"
   ]
  },
  {
   "cell_type": "code",
   "execution_count": 38,
   "id": "f4ecf225",
   "metadata": {},
   "outputs": [
    {
     "name": "stdout",
     "output_type": "stream",
     "text": [
      "batmani seçtiniz tebrikler\n"
     ]
    }
   ],
   "source": [
    "if benimKahramanim == \"batman\":\n",
    "    print(\"batmani seçtiniz tebrikler\")\n",
    "elif benimKahramanim == \"superman\":\n",
    "    print(\"keşke batmani seçseydiniz\")\n"
   ]
  },
  {
   "cell_type": "code",
   "execution_count": 39,
   "id": "24e6f009",
   "metadata": {},
   "outputs": [],
   "source": [
    "a=10\n",
    "b=20\n",
    "c=30"
   ]
  },
  {
   "cell_type": "code",
   "execution_count": 40,
   "id": "d934d0f7",
   "metadata": {},
   "outputs": [
    {
     "name": "stdout",
     "output_type": "stream",
     "text": [
      "a,b'den küçük ve b de c'den küçük\n"
     ]
    }
   ],
   "source": [
    "if a>b and b>c:\n",
    "    print(\"a, b'den büyük ve b de c'den büyük\")\n",
    "elif a<b and b<c:\n",
    "    print(\"a,b'den küçük ve b de c'den küçük\")"
   ]
  },
  {
   "cell_type": "code",
   "execution_count": 43,
   "id": "d6638dfb",
   "metadata": {},
   "outputs": [],
   "source": [
    "karakterCanli = True"
   ]
  },
  {
   "cell_type": "code",
   "execution_count": 47,
   "id": "5f41f06d",
   "metadata": {},
   "outputs": [
    {
     "name": "stdout",
     "output_type": "stream",
     "text": [
      "oyun karakteriniz yaşıyor\n"
     ]
    }
   ],
   "source": [
    "if karakterCanli:\n",
    "    print(\"oyun karakteriniz yaşıyor\")\n",
    "else:\n",
    "    print(\"oyun karakteriniz yaşamıyor\")"
   ]
  },
  {
   "cell_type": "code",
   "execution_count": 51,
   "id": "50f94f57",
   "metadata": {},
   "outputs": [
    {
     "name": "stdout",
     "output_type": "stream",
     "text": [
      "varmış\n"
     ]
    }
   ],
   "source": [
    "benimString = \"Atıl Samancıoğlu\"\n",
    "if \"amancıoğlu\" in benimString: \n",
    "    print(\"varmış\")\n",
    "else:\n",
    "    print(\"yokmuş\")"
   ]
  },
  {
   "cell_type": "code",
   "execution_count": 53,
   "id": "27c2a8a6",
   "metadata": {},
   "outputs": [
    {
     "name": "stdout",
     "output_type": "stream",
     "text": [
      "evet var\n"
     ]
    }
   ],
   "source": [
    "benimListem=[10,20,30,40,50]\n",
    "if 30 in benimListem:\n",
    "    print(\"evet var\")"
   ]
  },
  {
   "cell_type": "code",
   "execution_count": 56,
   "id": "1b3ed565",
   "metadata": {},
   "outputs": [
    {
     "name": "stdout",
     "output_type": "stream",
     "text": [
      "yes\n"
     ]
    }
   ],
   "source": [
    "benimSozluk={\"muz\":100,\"elma\":20}\n",
    "if \"muz\" in benimSozluk.keys():\n",
    "    print(\"varmış\")"
   ]
  },
  {
   "cell_type": "code",
   "execution_count": null,
   "id": "fb233df6",
   "metadata": {},
   "outputs": [],
   "source": [
    "if 500 in benimSozluk.values():\n",
    "    print(\"evet\")"
   ]
  }
 ],
 "metadata": {
  "kernelspec": {
   "display_name": "Python 3 (ipykernel)",
   "language": "python",
   "name": "python3"
  },
  "language_info": {
   "codemirror_mode": {
    "name": "ipython",
    "version": 3
   },
   "file_extension": ".py",
   "mimetype": "text/x-python",
   "name": "python",
   "nbconvert_exporter": "python",
   "pygments_lexer": "ipython3",
   "version": "3.11.5"
  }
 },
 "nbformat": 4,
 "nbformat_minor": 5
}
