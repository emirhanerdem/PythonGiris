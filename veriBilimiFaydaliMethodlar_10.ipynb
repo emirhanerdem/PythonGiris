{
 "cells": [
  {
   "cell_type": "markdown",
   "id": "e50231a2",
   "metadata": {},
   "source": [
    "range\n"
   ]
  },
  {
   "cell_type": "code",
   "execution_count": 4,
   "id": "a1b0ac87",
   "metadata": {},
   "outputs": [
    {
     "data": {
      "text/plain": [
       "[0, 1, 2, 3, 4, 5, 6, 7, 8, 9, 10, 11, 12, 13, 14]"
      ]
     },
     "execution_count": 4,
     "metadata": {},
     "output_type": "execute_result"
    }
   ],
   "source": [
    "list(range(15))"
   ]
  },
  {
   "cell_type": "code",
   "execution_count": 6,
   "id": "f5c19bb4",
   "metadata": {},
   "outputs": [
    {
     "data": {
      "text/plain": [
       "[5, 6, 7, 8, 9, 10, 11, 12, 13, 14, 15, 16, 17, 18, 19, 20, 21]"
      ]
     },
     "execution_count": 6,
     "metadata": {},
     "output_type": "execute_result"
    }
   ],
   "source": [
    "list(range(5,22))"
   ]
  },
  {
   "cell_type": "markdown",
   "id": "7c480181",
   "metadata": {},
   "source": [
    "enumerate\n"
   ]
  },
  {
   "cell_type": "code",
   "execution_count": 9,
   "id": "9ebe3057",
   "metadata": {},
   "outputs": [
    {
     "name": "stdout",
     "output_type": "stream",
     "text": [
      "güncel numara: 5 güncel index: 0\n",
      "güncel numara: 6 güncel index: 1\n",
      "güncel numara: 7 güncel index: 2\n",
      "güncel numara: 8 güncel index: 3\n",
      "güncel numara: 9 güncel index: 4\n",
      "güncel numara: 10 güncel index: 5\n",
      "güncel numara: 11 güncel index: 6\n",
      "güncel numara: 12 güncel index: 7\n",
      "güncel numara: 13 güncel index: 8\n",
      "güncel numara: 14 güncel index: 9\n"
     ]
    }
   ],
   "source": [
    "index=0\n",
    "for numara in list(range(5,15)):\n",
    "    print(f\"güncel numara: {numara} güncel index: {index}\")\n",
    "    index=index+1"
   ]
  },
  {
   "cell_type": "code",
   "execution_count": 12,
   "id": "8f4e0851",
   "metadata": {},
   "outputs": [
    {
     "name": "stdout",
     "output_type": "stream",
     "text": [
      "(0, 5)\n",
      "(1, 6)\n",
      "(2, 7)\n",
      "(3, 8)\n",
      "(4, 9)\n",
      "(5, 10)\n",
      "(6, 11)\n",
      "(7, 12)\n",
      "(8, 13)\n",
      "(9, 14)\n"
     ]
    }
   ],
   "source": [
    "for eleman in enumerate(list(range(5,15))):\n",
    "    print(eleman)"
   ]
  },
  {
   "cell_type": "code",
   "execution_count": 15,
   "id": "cf7531de",
   "metadata": {},
   "outputs": [
    {
     "name": "stdout",
     "output_type": "stream",
     "text": [
      "(9, 14)\n",
      "(9, 14)\n",
      "(9, 14)\n",
      "(9, 14)\n",
      "(9, 14)\n",
      "(9, 14)\n",
      "(9, 14)\n",
      "(9, 14)\n",
      "(9, 14)\n",
      "(9, 14)\n"
     ]
    }
   ],
   "source": [
    "for (index,numara) in enumerate(list(range(5,15))):\n",
    "    print(eleman)"
   ]
  },
  {
   "cell_type": "code",
   "execution_count": 26,
   "id": "7cf26453",
   "metadata": {},
   "outputs": [
    {
     "data": {
      "text/plain": [
       "51"
      ]
     },
     "execution_count": 26,
     "metadata": {},
     "output_type": "execute_result"
    }
   ],
   "source": [
    "from random import randint\n",
    "randint(10,100)"
   ]
  },
  {
   "cell_type": "code",
   "execution_count": 29,
   "id": "3ddfc4c7",
   "metadata": {},
   "outputs": [],
   "source": [
    "yeniListe=list(range(0,9))"
   ]
  },
  {
   "cell_type": "code",
   "execution_count": 30,
   "id": "a5377f71",
   "metadata": {},
   "outputs": [
    {
     "data": {
      "text/plain": [
       "[0, 1, 2, 3, 4, 5, 6, 7, 8]"
      ]
     },
     "execution_count": 30,
     "metadata": {},
     "output_type": "execute_result"
    }
   ],
   "source": [
    "yeniListe"
   ]
  },
  {
   "cell_type": "code",
   "execution_count": 31,
   "id": "b192e275",
   "metadata": {},
   "outputs": [
    {
     "data": {
      "text/plain": [
       "2"
      ]
     },
     "execution_count": 31,
     "metadata": {},
     "output_type": "execute_result"
    }
   ],
   "source": [
    "yeniListe[randint(0,9)]"
   ]
  },
  {
   "cell_type": "code",
   "execution_count": 32,
   "id": "3831e7f5",
   "metadata": {},
   "outputs": [],
   "source": [
    "from random import shuffle"
   ]
  },
  {
   "cell_type": "code",
   "execution_count": 33,
   "id": "facbc8b2",
   "metadata": {},
   "outputs": [],
   "source": [
    "shuffle(yeniListe)"
   ]
  },
  {
   "cell_type": "code",
   "execution_count": 34,
   "id": "0fe381d7",
   "metadata": {},
   "outputs": [
    {
     "data": {
      "text/plain": [
       "[5, 7, 0, 6, 8, 4, 1, 2, 3]"
      ]
     },
     "execution_count": 34,
     "metadata": {},
     "output_type": "execute_result"
    }
   ],
   "source": [
    "yeniListe"
   ]
  },
  {
   "cell_type": "markdown",
   "id": "911ee106",
   "metadata": {},
   "source": [
    "ZİP"
   ]
  },
  {
   "cell_type": "code",
   "execution_count": 36,
   "id": "d4490fc0",
   "metadata": {},
   "outputs": [],
   "source": [
    "yemekListesi = [\"muz\",\"ananas\",\"elma\"]\n",
    "kaloriListesi = [100,200,300]\n",
    "gunListesi =[\"pazartesi\",\"salı\",\"çarşamba\"]\n",
    "ziplenmisListe = list(zip(yemekListesi,kaloriListesi,gunListesi))"
   ]
  },
  {
   "cell_type": "code",
   "execution_count": 37,
   "id": "315f8f6c",
   "metadata": {},
   "outputs": [
    {
     "name": "stdout",
     "output_type": "stream",
     "text": [
      "('muz', 100, 'pazartesi')\n",
      "('ananas', 200, 'salı')\n",
      "('elma', 300, 'çarşamba')\n"
     ]
    }
   ],
   "source": [
    "for eleman in ziplenmisListe:\n",
    "    print(eleman)"
   ]
  },
  {
   "cell_type": "markdown",
   "id": "53972d93",
   "metadata": {},
   "source": [
    "listeler ileri seviye"
   ]
  },
  {
   "cell_type": "code",
   "execution_count": 38,
   "id": "922fd941",
   "metadata": {},
   "outputs": [],
   "source": [
    "listeOrnegi = []\n",
    "benimString = \"atıl samancıoğlu\""
   ]
  },
  {
   "cell_type": "code",
   "execution_count": 39,
   "id": "a2533e55",
   "metadata": {},
   "outputs": [],
   "source": [
    "for harf in benimString:\n",
    "    listeOrnegi.append(harf)"
   ]
  },
  {
   "cell_type": "code",
   "execution_count": 40,
   "id": "33c5f2a1",
   "metadata": {},
   "outputs": [
    {
     "data": {
      "text/plain": [
       "['a',\n",
       " 't',\n",
       " 'ı',\n",
       " 'l',\n",
       " ' ',\n",
       " 's',\n",
       " 'a',\n",
       " 'm',\n",
       " 'a',\n",
       " 'n',\n",
       " 'c',\n",
       " 'ı',\n",
       " 'o',\n",
       " 'ğ',\n",
       " 'l',\n",
       " 'u']"
      ]
     },
     "execution_count": 40,
     "metadata": {},
     "output_type": "execute_result"
    }
   ],
   "source": [
    "listeOrnegi"
   ]
  },
  {
   "cell_type": "code",
   "execution_count": null,
   "id": "f6d8cc99",
   "metadata": {},
   "outputs": [],
   "source": []
  }
 ],
 "metadata": {
  "kernelspec": {
   "display_name": "Python 3 (ipykernel)",
   "language": "python",
   "name": "python3"
  },
  "language_info": {
   "codemirror_mode": {
    "name": "ipython",
    "version": 3
   },
   "file_extension": ".py",
   "mimetype": "text/x-python",
   "name": "python",
   "nbconvert_exporter": "python",
   "pygments_lexer": "ipython3",
   "version": "3.11.5"
  }
 },
 "nbformat": 4,
 "nbformat_minor": 5
}
